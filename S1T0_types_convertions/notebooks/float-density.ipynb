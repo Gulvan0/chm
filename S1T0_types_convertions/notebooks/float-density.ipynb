{
 "cells": [
  {
   "cell_type": "code",
   "execution_count": null,
   "metadata": {},
   "outputs": [],
   "source": [
    "import numpy as np\n",
    "%matplotlib notebook\n",
    "import matplotlib.pyplot as plt"
   ]
  },
  {
   "cell_type": "code",
   "execution_count": null,
   "metadata": {},
   "outputs": [],
   "source": [
    "# find distance to nearest possible float value\n",
    "def eps(x):\n",
    "    d = x / 2\n",
    "\n",
    "    x1 = x + d\n",
    "    x1_prev = x\n",
    "\n",
    "    while True:\n",
    "        if x1 == x1_prev:\n",
    "            return d\n",
    "        \n",
    "        d /= 2\n",
    "        x1_prev = x1\n",
    "        x1 = x + d"
   ]
  },
  {
   "cell_type": "code",
   "execution_count": null,
   "metadata": {},
   "outputs": [],
   "source": [
    "plt.figure()\n",
    "\n",
    "xs = 10. ** np.arange(-10, 11)\n",
    "ys = [eps(x) for x in xs]\n",
    "plt.plot(np.log2(xs), np.log2(ys), 'k.-')\n",
    "\n",
    "xs = 2. ** np.arange(-30, 31)\n",
    "ys = [eps(x) for x in xs]\n",
    "plt.plot(np.log2(xs), np.log2(ys), 'm.')\n",
    "\n",
    "plt.xlabel('log2(x)')\n",
    "plt.ylabel('log2(eps(x))')\n",
    "pass"
   ]
  },
  {
   "cell_type": "code",
   "execution_count": null,
   "metadata": {},
   "outputs": [],
   "source": [
    "x0 = 1\n",
    "x64 = np.linspace(-x0, x0, 1000, dtype='float64')\n",
    "x32 = x64.astype(dtype='float32')"
   ]
  },
  {
   "cell_type": "code",
   "execution_count": null,
   "metadata": {},
   "outputs": [],
   "source": [
    "plt.figure()\n",
    "plt.plot(x64, x32-x64, 'k.-')\n",
    "plt.xlabel('x')\n",
    "plt.ylabel('float32 vs float64 error')\n",
    "pass"
   ]
  }
 ],
 "metadata": {
  "kernelspec": {
   "display_name": "Python 3",
   "language": "python",
   "name": "python3"
  },
  "language_info": {
   "codemirror_mode": {
    "name": "ipython",
    "version": 3
   },
   "file_extension": ".py",
   "mimetype": "text/x-python",
   "name": "python",
   "nbconvert_exporter": "python",
   "pygments_lexer": "ipython3",
   "version": "3.7.4"
  }
 },
 "nbformat": 4,
 "nbformat_minor": 2
}
